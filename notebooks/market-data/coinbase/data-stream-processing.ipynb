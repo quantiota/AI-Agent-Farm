{
 "cells": [
  {
   "attachments": {},
   "cell_type": "markdown",
   "id": "7f1f8bf5",
   "metadata": {},
   "source": [
    "# Using QuestDB to Build a Crypto Trade Database in Julia."
   ]
  },
  {
   "attachments": {},
   "cell_type": "markdown",
   "id": "c2a19f73",
   "metadata": {},
   "source": [
    "## The Producer/Consumer Pattern"
   ]
  },
  {
   "attachments": {},
   "cell_type": "markdown",
   "id": "9b45d168",
   "metadata": {},
   "source": [
    "I am setting the processes up using a programming pattern called ‘product/consumer’. This means building one process that produces data and a separate process that can consume data. Having the two functions separate allows for a better scalability if you wanted to add in more exchanges or workers. It also means that there is a degree of independence between the two processes and reducing the coupling should make for an easier development experience.\n",
    "\n",
    "To set this up in Julia we need to create a RemoteChannel which is how the producer and consumer processes will comunicate. It will be filled up with the type Trade that we will also create."
   ]
  },
  {
   "cell_type": "code",
   "execution_count": null,
   "id": "b4f73ba7",
   "metadata": {},
   "outputs": [],
   "source": [
    "struct Trade\n",
    "    id::String\n",
    "    time::String\n",
    "    price::Float64\n",
    "    size::Float64\n",
    "    side::Int64\n",
    "    symbol::String\n",
    "end\n",
    "\n",
    "Trade() = Trade(\"\", \"\", NaN, NaN, 0, \"\")\n",
    "\n",
    "Base.isempty(x::Trade) = x.id == \"\""
   ]
  },
  {
   "attachments": {},
   "cell_type": "markdown",
   "id": "dc813e4a",
   "metadata": {},
   "source": [
    "After creating the struct we also add in the null creator function and also a method for checking whether a trade but overall it is a simple type that just contains the relevant information for each trade found.\n",
    "\n",
    "The RemoteChannel comes from the Distributed package."
   ]
  },
  {
   "cell_type": "code",
   "execution_count": null,
   "id": "098977bf",
   "metadata": {},
   "outputs": [],
   "source": [
    "using Distributed\n",
    "const trades = RemoteChannel(()->Channel{Trade}(500));"
   ]
  },
  {
   "attachments": {},
   "cell_type": "markdown",
   "id": "63389e69",
   "metadata": {},
   "source": [
    "It can store 500 trades and we will fill it up by connecting to the CoinbasePro WebSocket feed. Any of the producer processes would be able to add to this trades channel if needed."
   ]
  },
  {
   "attachments": {},
   "cell_type": "markdown",
   "id": "6a94814d",
   "metadata": {},
   "source": [
    "## WebSockets in Julia"
   ]
  },
  {
   "attachments": {},
   "cell_type": "markdown",
   "id": "ccae4ba1",
   "metadata": {},
   "source": [
    "A WebSocket needs a url and a call back function to run on the WebSocket. In our case we want to connect to the WebSocket, subscribe to the market data and parse the incoming messages.\n",
    "\n",
    "Parsing the message is simple. As it is a JSON object it gets converted to a Julia dictionary, so we can just pull the appropriate fields and parse them to number if needed.\n",
    "\n",
    "This can be accomplished as so:"
   ]
  },
  {
   "cell_type": "code",
   "execution_count": null,
   "id": "661f2ce9",
   "metadata": {},
   "outputs": [],
   "source": [
    "using JSON, Dates, WebSockets\n",
    "\n",
    "coinbase_url = \"wss://ws-feed.exchange.coinbase.com\"\n",
    "coinbase_subscribe_string = JSON.json(Dict(:type=>\"subscribe\", \n",
    "                         :product_ids=>[\"ETH-USD\", \"BTC-USD\"], \n",
    "                         :channels=>[\"ticker\", \"heartbeat\"]))\n",
    "\n",
    "function parse_coinbase_data(x)\n",
    "    if (get(x, \"type\", \"\") == \"heartbeat\") || (haskey(x, \"channels\"))\n",
    "        println(\"Worker $(myid()): Coinbase Heartbeat\")\n",
    "        return Trade()\n",
    "    end\n",
    "    \n",
    "    ts = get(x, \"time\", \"\")\n",
    "    \n",
    "    side = get(x, \"side\", \"\")\n",
    "    tradedprice = parse(Float64, get(x, \"price\", \"NaN\"))\n",
    "    size = parse(Float64, get(x, \"last_size\", \"NaN\"))\n",
    "    id = get(x, \"trade_id\", \"\")\n",
    "    \n",
    "    product = get(x, \"product_id\", \"Unknown\")  # Retrieve the product id from the message\n",
    "    Trade(string(id), ts, tradedprice, size, lowercase(side) == \"buy\" ? 1 : -1, product)\n",
    "    \n",
    "end\n",
    "\n",
    "function save_coinbase_trades(coinbase_url, coinbase_subscribe_string)\n",
    "\n",
    "    WebSockets.open(coinbase_url) do ws\n",
    "        write(ws, coinbase_subscribe_string)\n",
    "        data, success = readguarded(ws)\n",
    "        println(\"Entering Loop\")\n",
    "        while true\n",
    "            data, success = readguarded(ws)\n",
    "            jdata = JSON.parse(String(data))\n",
    "            clean_data = parse_coinbase_data(jdata)\n",
    "            if !isempty(clean_data)\n",
    "              put!(trades, clean_data)\n",
    "            end\n",
    "        end\n",
    "    end\n",
    "    \n",
    "end"
   ]
  },
  {
   "attachments": {},
   "cell_type": "markdown",
   "id": "f11707d1",
   "metadata": {},
   "source": [
    "We subscribe to the ticker channel, which gives us trades as they occur and we also use the heartbeat channel to keep the WebSocket alive.\n",
    "\n",
    "Once the message has been parsed and we have created a Trade object, we can then add it to the queue for the database writer to pick up and save down.\n",
    "\n",
    "This is finishes the producer part. We can now move onto the consumer process."
   ]
  },
  {
   "attachments": {},
   "cell_type": "markdown",
   "id": "0952f535",
   "metadata": {},
   "source": [
    "## Getting Julia to Talk to QuestDB"
   ]
  },
  {
   "attachments": {},
   "cell_type": "markdown",
   "id": "0e11c675",
   "metadata": {},
   "source": [
    "We’ve connected to the WebSocket and our RemoteChannel is filling up. How do we get this into a database?. QuestDB exposes a socket (a normal socket not a WebSocket!) that Julia can connect to. So we simply connect to that exposed port and can send data to QuestDB.\n",
    "\n",
    "QuestDB uses the InfluxDB line protocol to ingest data. This is as easy as sending a string down the connection and QuestDB does the parsing to place it into the database table. This string needs to take on a specific format:\n",
    "\n",
    "table, string_column=value, numeric_column_1=value, numeric_column_2=value timestamp\n",
    "\n",
    "We build this using an IOBuffer to incrementally add to the payload string.\n",
    "\n",
    "The timestamp is the number of nanoseconds since the UNIX epoch. The timestamp of the trade from Coinbase does have this precision, but unfortunately Julia DateTime’s do not support nanoseconds but the Time type does. So we have to be a bit creative.\n",
    "\n",
    "The timestamp looks like 2021-01-01T12:00:00.123456. I split on the . to get the datetime up to seconds and the nanoseconds. The datetime gets easily parsed into epoch time which we get into nanoseconds since the epoch by multiplying by 1e9. For the nanoseconds, we right pad it with any 0 to makes sure it is 9 digits long and can then convert to nanoseconds. Then it is as simple as adding the two values together and using @sprintf to get the full integer number without scientific notation."
   ]
  },
  {
   "cell_type": "code",
   "execution_count": null,
   "id": "65fe59fb",
   "metadata": {},
   "outputs": [],
   "source": [
    "using Printf\n",
    "\n",
    "function parse_timestamp(ts::String)\n",
    "    \n",
    "    p1, p2 = split(ts, \".\")\n",
    "    \n",
    "    ut = datetime2unix(DateTime(p1)) * 1e9\n",
    "    ns = Nanosecond(rpad(chop(String(p2), tail=1), 9, \"0\"))\n",
    "    \n",
    "    @sprintf \"%.0f\" ut + ns.value \n",
    "end\n",
    "\n",
    "function build_payload(x::Trade)\n",
    "    buff = IOBuffer()\n",
    "    write(buff, \"trades,\")\n",
    "    write(buff, \"symbol=$(getfield(x, :symbol)), \")\n",
    "    for field in [:id, :price, :size]\n",
    "        val = getfield(x, field)\n",
    "        write(buff, \"$(field)=$(val),\")\n",
    "    end\n",
    "    write(buff, \"side=$(getfield(x, :side)) \")\n",
    "    \n",
    "    tspretty = parse_timestamp(getfield(x, :time))\n",
    "    \n",
    "    write(buff, tspretty)\n",
    "    write(buff, \"\\n\")\n",
    "    String(take!(buff))\n",
    "end"
   ]
  },
  {
   "attachments": {},
   "cell_type": "markdown",
   "id": "796b842e",
   "metadata": {},
   "source": [
    "The build_payload function takes in a trade and outputs a string to write to QuestDB. We connect to port 9009 and continuously take trades from the trades RemoteChannel and write it to the database."
   ]
  },
  {
   "cell_type": "code",
   "execution_count": null,
   "id": "51b0934a",
   "metadata": {},
   "outputs": [],
   "source": [
    "using Sockets\n",
    "function save_trades_quest(trades)\n",
    "    cs = connect(\"docker_host_ip_address\", 9009)\n",
    "    while true\n",
    "        payload = build_payload(take!(trades))\n",
    "        write(cs, (payload))\n",
    "    end\n",
    "    close(cs)\n",
    "end"
   ]
  },
  {
   "attachments": {},
   "cell_type": "markdown",
   "id": "04470bf0",
   "metadata": {},
   "source": [
    "All pretty simple. The annoying thing is that it won’t give any indication as to whether it was successful in writing the file or not. You can check by looking at the QuestDB web interface and seeing if your value appears after querying the database or you can check the QuestDB logs to see if any errors have been found. You’ll find the logs at /usr/local/var/questdb on a Mac.\n",
    "\n",
    "Now we’ve got everything sorted we just need to get both processes running. We will kick off the WebSocket process asynchronously so that is runs in the background and likewise, the save_trades_quest function so that it doesn’t lock your computer up if you are running the code along side it. With scaling in mind, you could run both of these processes on different threads or cores if needed. But in this case, both processes are light enough to be ran asynchronously on the main thread."
   ]
  },
  {
   "cell_type": "code",
   "execution_count": null,
   "id": "c3dd2d4c",
   "metadata": {},
   "outputs": [],
   "source": [
    "@async save_coinbase_trades(coinbase_url, coinbase_subscribe_string)\n",
    "@async save_trades_quest(trades)"
   ]
  },
  {
   "attachments": {},
   "cell_type": "markdown",
   "id": "61be2f48",
   "metadata": {},
   "source": [
    "This is now saving down into the database every time a new trade is seen. If you go to localhost:9000 you query the data and see how it is evolving. QuestDB uses SQL like equivalent and so you can write things like"
   ]
  },
  {
   "cell_type": "code",
   "execution_count": null,
   "id": "b557409e",
   "metadata": {},
   "outputs": [],
   "source": [
    "select * from trades"
   ]
  },
  {
   "attachments": {},
   "cell_type": "markdown",
   "id": "025923b4",
   "metadata": {},
   "source": [
    "and it will show you all the trades saved down so far. Or"
   ]
  },
  {
   "cell_type": "code",
   "execution_count": null,
   "id": "3d56fcef",
   "metadata": {},
   "outputs": [],
   "source": [
    "select min(timestamp), max(timestamp) from trades"
   ]
  },
  {
   "attachments": {},
   "cell_type": "markdown",
   "id": "1c353e2b",
   "metadata": {},
   "source": [
    "to see the earliest and latest timestamp in traditional SQL. Or using the timeseries database features:"
   ]
  },
  {
   "cell_type": "code",
   "execution_count": null,
   "id": "19b6984e",
   "metadata": {},
   "outputs": [],
   "source": [
    "select * from trades\n",
    "latest by exchange"
   ]
  },
  {
   "attachments": {},
   "cell_type": "markdown",
   "id": "61f4938e",
   "metadata": {},
   "source": [
    "which will pull out the last timestamp."
   ]
  },
  {
   "attachments": {},
   "cell_type": "markdown",
   "id": "82af6d32",
   "metadata": {},
   "source": [
    "## Summary"
   ]
  },
  {
   "attachments": {},
   "cell_type": "markdown",
   "id": "54ad1d3c",
   "metadata": {},
   "source": [
    "That’s the end of part 1. You should hopefully QuestDB installed and slowly filling up with trades from Coinbase now. In the next part, I’ll show you how to connect to the database and pull the data to do some analysis.\n",
    "\n",
    "If you want something extra to do, why not try extending the program to pull in other cryptocurrencies, you’ll want to edit the subscribe string and how each message is parsed. You can also connect to QuestDB using Grafana and build out some dashboards to monitor the trades without needing any other code."
   ]
  },
  {
   "cell_type": "markdown",
   "id": "eb8ec71f",
   "metadata": {},
   "source": [
    "## Reference"
   ]
  },
  {
   "cell_type": "markdown",
   "id": "4234b711",
   "metadata": {},
   "source": [
    "Using QuestDB to Build a Crypto Trade Database in Julia By [Dean Markwick](https://dm13450.github.io/2021/08/05/questdb-part-1.html)"
   ]
  }
 ],
 "metadata": {
  "kernelspec": {
   "display_name": "Julia 1.8.5",
   "language": "julia",
   "name": "julia-1.8"
  },
  "language_info": {
   "file_extension": ".jl",
   "mimetype": "application/julia",
   "name": "julia",
   "version": "1.8.5"
  }
 },
 "nbformat": 4,
 "nbformat_minor": 5
}
